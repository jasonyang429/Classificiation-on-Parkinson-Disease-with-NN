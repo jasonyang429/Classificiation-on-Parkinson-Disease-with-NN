{
  "nbformat": 4,
  "nbformat_minor": 0,
  "metadata": {
    "colab": {
      "name": "Classification on Parkinson Disease.ipynb",
      "provenance": [],
      "toc_visible": true,
      "authorship_tag": "ABX9TyNOTSlsBTUDHnZap06wuJvc",
      "include_colab_link": true
    },
    "kernelspec": {
      "name": "python3",
      "display_name": "Python 3"
    },
    "accelerator": "GPU"
  },
  "cells": [
    {
      "cell_type": "markdown",
      "metadata": {
        "id": "view-in-github",
        "colab_type": "text"
      },
      "source": [
        "<a href=\"https://colab.research.google.com/github/jasonyang429/Classificiation-on-Parkinson-Disease-with-NN/blob/main/Classification_on_Parkinson_Disease.ipynb\" target=\"_parent\"><img src=\"https://colab.research.google.com/assets/colab-badge.svg\" alt=\"Open In Colab\"/></a>"
      ]
    },
    {
      "cell_type": "markdown",
      "metadata": {
        "id": "FcmoOE1hOr4T"
      },
      "source": [
        "# **Classification on Parkinson Disease**\n",
        "\n",
        "The dataset of Parkinson Disease was cited from 'Exploiting Nonlinear Recurrence and Fractal Scaling Properties for Voice Disorder Detection', Little MA, McSharry PE, Roberts SJ, Costello DAE, Moroz IM. BioMedical Engineering OnLine 2007, 6:23 (26 June 2007)\n",
        "\n",
        "The dataset consists of binary classes for classification purpose, where \"0\" denotes negative for Parkinson Disease and vice versa.\n",
        "\n",
        "Look more about the details of the dataset [here](https://archive.ics.uci.edu/ml/datasets/Parkinsons).\n",
        "\n",
        "\n",
        "\n",
        "<img src='https://archive.ics.uci.edu/ml/assets/MLimages/Large174.jpg'>\n"
      ]
    },
    {
      "cell_type": "markdown",
      "metadata": {
        "id": "uwJ6YdqC1Xek"
      },
      "source": [
        "First, import neccessary libraries."
      ]
    },
    {
      "cell_type": "code",
      "metadata": {
        "id": "Tgc7m7NiFzrD",
        "outputId": "378e2e25-97ce-4dd3-e4e8-a902c2c9faac",
        "colab": {
          "base_uri": "https://localhost:8080/",
          "height": 34
        }
      },
      "source": [
        "import tensorflow as tf\n",
        "import numpy as np\n",
        "import matplotlib.pyplot as plt\n",
        "from keras_preprocessing.image import ImageDataGenerator\n",
        "%matplotlib inline\n",
        "import pandas as pd\n",
        "import csv\n",
        "# Check tensforflow version\n",
        "print(tf.__version__)"
      ],
      "execution_count": 491,
      "outputs": [
        {
          "output_type": "stream",
          "text": [
            "2.3.0\n"
          ],
          "name": "stdout"
        }
      ]
    },
    {
      "cell_type": "markdown",
      "metadata": {
        "id": "8qALn3oc1dM8"
      },
      "source": [
        "Here, I downloaded the data and read the data.\n",
        "\n",
        "The \"status\" column denotes that whether the person is diagnosed with Parkinson Disease or not. \"0\" for negative and \"1\" for positive.\n",
        "\n",
        "The \"status\" column is located at the 17th column, so I swaped the positions to make it simpler to split into X and Y."
      ]
    },
    {
      "cell_type": "code",
      "metadata": {
        "id": "ab7wZYSrHCR5",
        "outputId": "f2e542ac-3615-4c3c-cd91-1e51085eca23",
        "colab": {
          "base_uri": "https://localhost:8080/",
          "height": 390
        }
      },
      "source": [
        "!wget -c https://archive.ics.uci.edu/ml/machine-learning-databases/parkinsons/parkinsons.data\n",
        "\n",
        "flag = True\n",
        "dataset = []\n",
        "column_header = None\n",
        "\n",
        "# Read the data\n",
        "with open('parkinsons.data') as csvfile:\n",
        "  reader = csv.reader(csvfile, delimiter=',')\n",
        "  for row in reader:\n",
        "    if flag:\n",
        "      flag = False\n",
        "      column_header = row\n",
        "    else:\n",
        "      dataset.append(row)\n",
        "# print the column header\n",
        "print(column_header)\n",
        "dataset = np.array(dataset)\n",
        "\n",
        "# print the shape of the dataset\n",
        "print(dataset.shape)\n",
        "\n",
        "# Swapping the index\n",
        "idx = []\n",
        "for i in range(dataset.shape[1]):\n",
        "   if i != 17: \n",
        "    idx.append(i)\n",
        "idx.append(17)\n",
        "dataset = dataset[:,idx]\n",
        "\n",
        "print(dataset[:3])\n",
        "\n",
        "np.random.seed(43)"
      ],
      "execution_count": 492,
      "outputs": [
        {
          "output_type": "stream",
          "text": [
            "--2020-10-12 08:12:28--  https://archive.ics.uci.edu/ml/machine-learning-databases/parkinsons/parkinsons.data\n",
            "Resolving archive.ics.uci.edu (archive.ics.uci.edu)... 128.195.10.252\n",
            "Connecting to archive.ics.uci.edu (archive.ics.uci.edu)|128.195.10.252|:443... connected.\n",
            "HTTP request sent, awaiting response... 416 Requested Range Not Satisfiable\n",
            "\n",
            "    The file is already fully retrieved; nothing to do.\n",
            "\n",
            "['name', 'MDVP:Fo(Hz)', 'MDVP:Fhi(Hz)', 'MDVP:Flo(Hz)', 'MDVP:Jitter(%)', 'MDVP:Jitter(Abs)', 'MDVP:RAP', 'MDVP:PPQ', 'Jitter:DDP', 'MDVP:Shimmer', 'MDVP:Shimmer(dB)', 'Shimmer:APQ3', 'Shimmer:APQ5', 'MDVP:APQ', 'Shimmer:DDA', 'NHR', 'HNR', 'status', 'RPDE', 'DFA', 'spread1', 'spread2', 'D2', 'PPE']\n",
            "(195, 24)\n",
            "[['phon_R01_S01_1' '119.99200' '157.30200' '74.99700' '0.00784' '0.00007'\n",
            "  '0.00370' '0.00554' '0.01109' '0.04374' '0.42600' '0.02182' '0.03130'\n",
            "  '0.02971' '0.06545' '0.02211' '21.03300' '0.414783' '0.815285'\n",
            "  '-4.813031' '0.266482' '2.301442' '0.284654' '1']\n",
            " ['phon_R01_S01_2' '122.40000' '148.65000' '113.81900' '0.00968'\n",
            "  '0.00008' '0.00465' '0.00696' '0.01394' '0.06134' '0.62600' '0.03134'\n",
            "  '0.04518' '0.04368' '0.09403' '0.01929' '19.08500' '0.458359'\n",
            "  '0.819521' '-4.075192' '0.335590' '2.486855' '0.368674' '1']\n",
            " ['phon_R01_S01_3' '116.68200' '131.11100' '111.55500' '0.01050'\n",
            "  '0.00009' '0.00544' '0.00781' '0.01633' '0.05233' '0.48200' '0.02757'\n",
            "  '0.03858' '0.03590' '0.08270' '0.01309' '20.65100' '0.429895'\n",
            "  '0.825288' '-4.443179' '0.311173' '2.342259' '0.332634' '1']]\n"
          ],
          "name": "stdout"
        }
      ]
    },
    {
      "cell_type": "markdown",
      "metadata": {
        "id": "yRLpm10f20Dg"
      },
      "source": [
        "Here, I shuffled the dataset and split it into X and Y."
      ]
    },
    {
      "cell_type": "code",
      "metadata": {
        "id": "8OTeWugpHM_g",
        "outputId": "99880aeb-e592-47ba-fce3-908fc578d97f",
        "colab": {
          "base_uri": "https://localhost:8080/",
          "height": 50
        }
      },
      "source": [
        "np.random.shuffle(dataset)\n",
        "\n",
        "X = np.array(dataset[:,1:-2]).astype(float)\n",
        "Y = np.array(dataset[:,-1]).astype(float)\n",
        "Y = np.expand_dims(Y, -1)\n",
        "\n",
        "print(X.shape)\n",
        "print(Y.shape)"
      ],
      "execution_count": 493,
      "outputs": [
        {
          "output_type": "stream",
          "text": [
            "(195, 21)\n",
            "(195, 1)\n"
          ],
          "name": "stdout"
        }
      ]
    },
    {
      "cell_type": "markdown",
      "metadata": {
        "id": "cFTDf2LY29JJ"
      },
      "source": [
        "Split the X and Y into training, validation and test sets."
      ]
    },
    {
      "cell_type": "code",
      "metadata": {
        "id": "qhTqGAjyINGj",
        "outputId": "beedc343-8965-4e3a-d830-f54ffebdad6f",
        "colab": {
          "base_uri": "https://localhost:8080/",
          "height": 67
        }
      },
      "source": [
        "test_split_idx = int(0.94*X.shape[0])\n",
        "X, x_test = X[:test_split_idx], X[test_split_idx:]\n",
        "Y, y_test = Y[:test_split_idx], Y[test_split_idx:]\n",
        "\n",
        "val_split_idx = int(0.95*X.shape[0])\n",
        "x_train, x_val = X[:val_split_idx], X[val_split_idx:]\n",
        "y_train, y_val = Y[:val_split_idx], Y[val_split_idx:]\n",
        "\n",
        "print(x_train.shape, y_train.shape)\n",
        "print(x_val.shape, y_val.shape)\n",
        "print(x_test.shape, y_test.shape)"
      ],
      "execution_count": 494,
      "outputs": [
        {
          "output_type": "stream",
          "text": [
            "(173, 21) (173, 1)\n",
            "(10, 21) (10, 1)\n",
            "(12, 21) (12, 1)\n"
          ],
          "name": "stdout"
        }
      ]
    },
    {
      "cell_type": "markdown",
      "metadata": {
        "id": "JCGFvPqn3EXn"
      },
      "source": [
        "Define the model. I used Neural Networks. \n",
        "\n",
        "The last layer of the network is activated by a sigmoid function for binary classification."
      ]
    },
    {
      "cell_type": "code",
      "metadata": {
        "id": "dAdJhK6ubc0t",
        "outputId": "9503ea60-b03c-4cf9-bc85-2cbc3ff12135",
        "colab": {
          "base_uri": "https://localhost:8080/",
          "height": 286
        }
      },
      "source": [
        "# L1 = 128\n",
        "# L2 = 32\n",
        "# L3 = 10\n",
        "# optimizer = adam(lr=0.00006)\n",
        "# batch_size = 4\n",
        "# ~80% train acc, ~90% val acc\n",
        "# 83% test acc\n",
        "\n",
        "model = tf.keras.Sequential([\n",
        "        tf.keras.layers.Dense(64, input_shape=[21]),\n",
        "        tf.keras.layers.Dense(32, activation='relu'),\n",
        "        tf.keras.layers.Dense(10, activation='relu'),\n",
        "        tf.keras.layers.Dense(1, activation='sigmoid')\n",
        "])\n",
        "\n",
        "# Print the summary of the model\n",
        "model.summary()\n"
      ],
      "execution_count": 511,
      "outputs": [
        {
          "output_type": "stream",
          "text": [
            "Model: \"sequential\"\n",
            "_________________________________________________________________\n",
            "Layer (type)                 Output Shape              Param #   \n",
            "=================================================================\n",
            "dense (Dense)                (None, 64)                1408      \n",
            "_________________________________________________________________\n",
            "dense_1 (Dense)              (None, 32)                2080      \n",
            "_________________________________________________________________\n",
            "dense_2 (Dense)              (None, 10)                330       \n",
            "_________________________________________________________________\n",
            "dense_3 (Dense)              (None, 1)                 11        \n",
            "=================================================================\n",
            "Total params: 3,829\n",
            "Trainable params: 3,829\n",
            "Non-trainable params: 0\n",
            "_________________________________________________________________\n"
          ],
          "name": "stdout"
        }
      ]
    },
    {
      "cell_type": "markdown",
      "metadata": {
        "id": "uf88HH6F3Y9l"
      },
      "source": [
        "Compile the model and fit it with the training sets and validate with validation sets."
      ]
    },
    {
      "cell_type": "code",
      "metadata": {
        "id": "kXlx-CwBPYri"
      },
      "source": [
        "\n",
        "tf.keras.backend.clear_session()\n",
        "model.compile(optimizer=tf.keras.optimizers.Adam(0.0008), loss='binary_crossentropy', metrics=['accuracy'])\n",
        "\n",
        "history = model.fit(x_train, y_train,batch_size=4, epochs=150, validation_data=(x_val, y_val), verbose=0)"
      ],
      "execution_count": 512,
      "outputs": []
    },
    {
      "cell_type": "markdown",
      "metadata": {
        "id": "EBsa86Wg3fbZ"
      },
      "source": [
        "Plotting the accuracy and losses."
      ]
    },
    {
      "cell_type": "code",
      "metadata": {
        "id": "l7aTQ-G3P-PY",
        "outputId": "d2a57f60-b22b-4823-fb8c-8f811c0de4cb",
        "colab": {
          "base_uri": "https://localhost:8080/",
          "height": 545
        }
      },
      "source": [
        "acc = history.history['accuracy']\n",
        "val_acc = history.history['val_accuracy']\n",
        "loss = history.history['loss']\n",
        "val_loss = history.history['val_loss']\n",
        "\n",
        "epochs = range(len(acc))\n",
        "\n",
        "plt.plot(epochs, acc, 'b', label='Training accuracy')\n",
        "plt.plot(epochs, val_acc, 'r', label='Validation accuracy')\n",
        "plt.title('Training and validation accuracy')\n",
        "plt.legend()\n",
        "plt.figure()\n",
        "\n",
        "plt.plot(epochs, loss, 'b', label='Training Loss')\n",
        "plt.plot(epochs, val_loss, 'r', label='Validation Loss')\n",
        "plt.title('Training and validation loss')\n",
        "plt.legend()\n",
        "\n",
        "plt.show()"
      ],
      "execution_count": 513,
      "outputs": [
        {
          "output_type": "display_data",
          "data": {
            "image/png": "[encoded data removed]",
            "text/plain": [
              "<Figure size 432x288 with 1 Axes>"
            ]
          },
          "metadata": {
            "tags": [],
            "needs_background": "light"
          }
        },
        {
          "output_type": "display_data",
          "data": {
            "image/png": "[encoded data removed]",
            "text/plain": [
              "<Figure size 432x288 with 1 Axes>"
            ]
          },
          "metadata": {
            "tags": [],
            "needs_background": "light"
          }
        }
      ]
    },
    {
      "cell_type": "markdown",
      "metadata": {
        "id": "w2jH0kg64C_z"
      },
      "source": [
        "Evaluate the model on test set."
      ]
    },
    {
      "cell_type": "code",
      "metadata": {
        "id": "PqmZG5Z0RRUy",
        "outputId": "d76f6d31-afca-435f-89d5-095dc4f7288a",
        "colab": {
          "base_uri": "https://localhost:8080/",
          "height": 50
        }
      },
      "source": [
        "model.evaluate(x_test, y_test)"
      ],
      "execution_count": 514,
      "outputs": [
        {
          "output_type": "stream",
          "text": [
            "1/1 [==============================] - 0s 2ms/step - loss: 0.4369 - accuracy: 0.8333\n"
          ],
          "name": "stdout"
        },
        {
          "output_type": "execute_result",
          "data": {
            "text/plain": [
              "[0.43693771958351135, 0.8333333134651184]"
            ]
          },
          "metadata": {
            "tags": []
          },
          "execution_count": 514
        }
      ]
    }
  ]
}